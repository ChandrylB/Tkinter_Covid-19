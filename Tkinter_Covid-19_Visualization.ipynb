{
 "cells": [
  {
   "cell_type": "markdown",
   "metadata": {},
   "source": [
    "# COVID-19 APP\n",
    "\n",
    "#Interactive data visualisation part (1)\n",
    "\n",
    "This Apps is for somes Covid-19 issues. It is is divided into 3 part:<br>\n",
    "-The Dashboard (For visualizing the evolution)<br>\n",
    "-Estimations and Stat (for some prediction, stat and simulation<br>\n",
    "-GIS (for adding a spatial feature )<br>\n",
    "<br>\n",
    "this notebook show i how create the Interactive Data Visualization with the GUI Tkinter<br>\n",
    "The dashboard will show graph of option Confirmed, Detahs and Recovered according to the selected country<br>\n",
    "-ListCombo with: Countries<br>\n",
    "-Checkbox with: Confirmed, Deaths, Recovered<br>\n",
    "\n",
    "Data source: https://datahub.io/core/covid-19"
   ]
  },
  {
   "cell_type": "code",
   "execution_count": 1,
   "metadata": {},
   "outputs": [],
   "source": [
    "#Library\n",
    "import tkinter as tk\n",
    "from tkinter import *\n",
    "from tkinter import ttk\n",
    "from matplotlib.figure import Figure\n",
    "from matplotlib.backends.backend_tkagg import FigureCanvasTkAgg, NavigationToolbar2Tk\n",
    "from matplotlib.backend_bases import key_press_handler\n",
    "from datetime import datetime\n",
    "import matplotlib.pyplot as plt\n",
    "import pandas as pd"
   ]
  },
  {
   "cell_type": "markdown",
   "metadata": {},
   "source": [
    "# Data loading"
   ]
  },
  {
   "cell_type": "code",
   "execution_count": 2,
   "metadata": {},
   "outputs": [],
   "source": [
    "data=pd.read_csv('https://raw.githubusercontent.com/datasets/covid-19/master/data/time-series-19-covid-combined.csv')\n"
   ]
  },
  {
   "cell_type": "markdown",
   "metadata": {},
   "source": [
    "# Data exploration and correction\n"
   ]
  },
  {
   "cell_type": "code",
   "execution_count": 3,
   "metadata": {},
   "outputs": [
    {
     "data": {
      "text/html": [
       "<div>\n",
       "<style scoped>\n",
       "    .dataframe tbody tr th:only-of-type {\n",
       "        vertical-align: middle;\n",
       "    }\n",
       "\n",
       "    .dataframe tbody tr th {\n",
       "        vertical-align: top;\n",
       "    }\n",
       "\n",
       "    .dataframe thead th {\n",
       "        text-align: right;\n",
       "    }\n",
       "</style>\n",
       "<table border=\"1\" class=\"dataframe\">\n",
       "  <thead>\n",
       "    <tr style=\"text-align: right;\">\n",
       "      <th></th>\n",
       "      <th>Date</th>\n",
       "      <th>Country/Region</th>\n",
       "      <th>Province/State</th>\n",
       "      <th>Lat</th>\n",
       "      <th>Long</th>\n",
       "      <th>Confirmed</th>\n",
       "      <th>Recovered</th>\n",
       "      <th>Deaths</th>\n",
       "    </tr>\n",
       "  </thead>\n",
       "  <tbody>\n",
       "    <tr>\n",
       "      <td>0</td>\n",
       "      <td>2020-01-22</td>\n",
       "      <td>Afghanistan</td>\n",
       "      <td>NaN</td>\n",
       "      <td>33.0</td>\n",
       "      <td>65.0</td>\n",
       "      <td>0.0</td>\n",
       "      <td>0.0</td>\n",
       "      <td>0.0</td>\n",
       "    </tr>\n",
       "    <tr>\n",
       "      <td>1</td>\n",
       "      <td>2020-01-23</td>\n",
       "      <td>Afghanistan</td>\n",
       "      <td>NaN</td>\n",
       "      <td>33.0</td>\n",
       "      <td>65.0</td>\n",
       "      <td>0.0</td>\n",
       "      <td>0.0</td>\n",
       "      <td>0.0</td>\n",
       "    </tr>\n",
       "    <tr>\n",
       "      <td>2</td>\n",
       "      <td>2020-01-24</td>\n",
       "      <td>Afghanistan</td>\n",
       "      <td>NaN</td>\n",
       "      <td>33.0</td>\n",
       "      <td>65.0</td>\n",
       "      <td>0.0</td>\n",
       "      <td>0.0</td>\n",
       "      <td>0.0</td>\n",
       "    </tr>\n",
       "    <tr>\n",
       "      <td>3</td>\n",
       "      <td>2020-01-25</td>\n",
       "      <td>Afghanistan</td>\n",
       "      <td>NaN</td>\n",
       "      <td>33.0</td>\n",
       "      <td>65.0</td>\n",
       "      <td>0.0</td>\n",
       "      <td>0.0</td>\n",
       "      <td>0.0</td>\n",
       "    </tr>\n",
       "    <tr>\n",
       "      <td>4</td>\n",
       "      <td>2020-01-26</td>\n",
       "      <td>Afghanistan</td>\n",
       "      <td>NaN</td>\n",
       "      <td>33.0</td>\n",
       "      <td>65.0</td>\n",
       "      <td>0.0</td>\n",
       "      <td>0.0</td>\n",
       "      <td>0.0</td>\n",
       "    </tr>\n",
       "  </tbody>\n",
       "</table>\n",
       "</div>"
      ],
      "text/plain": [
       "         Date Country/Region Province/State   Lat  Long  Confirmed  Recovered  \\\n",
       "0  2020-01-22    Afghanistan            NaN  33.0  65.0        0.0        0.0   \n",
       "1  2020-01-23    Afghanistan            NaN  33.0  65.0        0.0        0.0   \n",
       "2  2020-01-24    Afghanistan            NaN  33.0  65.0        0.0        0.0   \n",
       "3  2020-01-25    Afghanistan            NaN  33.0  65.0        0.0        0.0   \n",
       "4  2020-01-26    Afghanistan            NaN  33.0  65.0        0.0        0.0   \n",
       "\n",
       "   Deaths  \n",
       "0     0.0  \n",
       "1     0.0  \n",
       "2     0.0  \n",
       "3     0.0  \n",
       "4     0.0  "
      ]
     },
     "execution_count": 3,
     "metadata": {},
     "output_type": "execute_result"
    }
   ],
   "source": [
    "#First look\n",
    "data.head()"
   ]
  },
  {
   "cell_type": "markdown",
   "metadata": {},
   "source": [
    "There is 8 features in the dataset. for the first dashboard part, only Date, Country, Confirmed, Recovered and Deaths are used. <br>\n"
   ]
  },
  {
   "cell_type": "code",
   "execution_count": 4,
   "metadata": {},
   "outputs": [
    {
     "data": {
      "text/plain": [
       "Date               object\n",
       "Country/Region     object\n",
       "Province/State     object\n",
       "Lat               float64\n",
       "Long              float64\n",
       "Confirmed         float64\n",
       "Recovered         float64\n",
       "Deaths            float64\n",
       "dtype: object"
      ]
     },
     "execution_count": 4,
     "metadata": {},
     "output_type": "execute_result"
    }
   ],
   "source": [
    "#Type of data\n",
    "data.dtypes"
   ]
  },
  {
   "cell_type": "markdown",
   "metadata": {},
   "source": [
    "the feature 'Date' is not in the correct type, it is set as a object <br>\n",
    "In the next cell, we ll correct that issue"
   ]
  },
  {
   "cell_type": "code",
   "execution_count": 5,
   "metadata": {},
   "outputs": [],
   "source": [
    "#time correction\n",
    "time = []\n",
    "for i in data['Date']:\n",
    "    a = datetime.strptime(i, '%Y-%m-%d')\n",
    "    time.append(a)\n",
    "data = data.drop(['Date'], axis=1)\n",
    "data.insert(0,'Date', time)\n"
   ]
  },
  {
   "cell_type": "code",
   "execution_count": 6,
   "metadata": {},
   "outputs": [
    {
     "data": {
      "text/plain": [
       "Date              datetime64[ns]\n",
       "Country/Region            object\n",
       "Province/State            object\n",
       "Lat                      float64\n",
       "Long                     float64\n",
       "Confirmed                float64\n",
       "Recovered                float64\n",
       "Deaths                   float64\n",
       "dtype: object"
      ]
     },
     "execution_count": 6,
     "metadata": {},
     "output_type": "execute_result"
    }
   ],
   "source": [
    "#After correction, time is now in a good type\n",
    "data.dtypes"
   ]
  },
  {
   "cell_type": "code",
   "execution_count": 7,
   "metadata": {},
   "outputs": [],
   "source": [
    "list_pays = data['Country/Region'].unique()\n"
   ]
  },
  {
   "cell_type": "markdown",
   "metadata": {},
   "source": [
    "# Functions\n",
    "\n",
    "In this step,  i will creat functions which both process data and creates the Tkinter canevas as the final issues is to have a Dynamic Tkinter Visualisation"
   ]
  },
  {
   "cell_type": "code",
   "execution_count": 8,
   "metadata": {},
   "outputs": [],
   "source": [
    "#In this cell, we ll creat a fonction that select which select all needed features according to the country name\n",
    "\n",
    "group_data = data.groupby('Country/Region')\n",
    "def country_selection(country):\n",
    "    country_data=(group_data.get_group(country))[['Date','Confirmed','Recovered','Deaths']]\n",
    "    return country_data"
   ]
  },
  {
   "cell_type": "markdown",
   "metadata": {},
   "source": [
    "The next function deals with 2 problems <br>\n",
    "- it first calculates total cases of differents features <br>\n",
    "- It secondly creates a canevas in Tkinter where these data ll be vizualised <br>"
   ]
  },
  {
   "cell_type": "code",
   "execution_count": 9,
   "metadata": {},
   "outputs": [],
   "source": [
    "def total_stat(country):\n",
    "    country_selected = country_selection(country)\n",
    "    country_filtred = country_selected.groupby('Date').sum()\n",
    "    \n",
    "    recov_all = max(country_filtred['Recovered'])\n",
    "    confirm_all = max(country_filtred['Confirmed'])\n",
    "    die_all = max(country_filtred['Deaths'])\n",
    "    \n",
    "    info_frame = tk.LabelFrame(root, text='INFORMATION')\n",
    "    confir_cas = tk.Label(info_frame, text = \"Confirmed : \\n %d\" %(confirm_all), height=6, width=20, font='20')\n",
    "\n",
    "    death_cas = tk.Label(info_frame, text = \"Deaths : \\n %d\" %(die_all), height=6, width=20, font='20')\n",
    "\n",
    "    recov_cas = tk.Label(info_frame, text = \"Recovered : \\n %d\" %(recov_all), height=6, width=20, font='20')\n",
    "    \n",
    "    info_frame.grid(row=3, column=0)\n",
    "    confir_cas.grid(row=0, column=5)\n",
    "    death_cas.grid(row=1 , column=5)\n",
    "    recov_cas.grid(row=3, column=5)\n",
    "\n"
   ]
  },
  {
   "cell_type": "markdown",
   "metadata": {},
   "source": [
    "The following function deals with 3 problematics  <br>\n",
    "- it firstly aims to draw different graphics <br>\n",
    "- Secondly, it select differents cases according to option ticked in the dashboard <br>\n",
    "- it finally draw the caneva in Tkinter"
   ]
  },
  {
   "cell_type": "code",
   "execution_count": 43,
   "metadata": {},
   "outputs": [],
   "source": [
    "def tableau_pays2(country,recovered, deaths, confirmed):\n",
    "    country_selected = country_selection(country)\n",
    "    country_filtred = country_selected.groupby('Date').sum()\n",
    "    \n",
    "    selection = [recovered,deaths,confirmed]\n",
    "    \n",
    "    while 'non' in selection:\n",
    "        selection.remove('non')\n",
    "        \n",
    "    \n",
    "    image = Figure(figsize=(7,5), dpi=100)\n",
    "    image.suptitle('Covid-19 Evolution in %s' %country)\n",
    "    if len(selection)==0:\n",
    "        image.add_subplot(111).plot()\n",
    "    else: \n",
    "        for i in selection:      \n",
    "            image.add_subplot(111).plot_date(country_filtred.index,country_filtred[i], linestyle='solid',label=i)\n",
    "            \n",
    "    image.autofmt_xdate()\n",
    "    image.legend()\n",
    "    \n",
    "    canvas = FigureCanvasTkAgg(image, master=root)\n",
    "    canvas.draw()\n",
    "    canvas.get_tk_widget().grid(row=3, column=1)\n"
   ]
  },
  {
   "cell_type": "markdown",
   "metadata": {},
   "source": [
    "# Example of graphics\n",
    "the following function are not the one use in the App ( they don't creat a caneva). <br> It is the repeatition of the previous one with out creating caneva. <br>\n",
    "The aim of this part is just to display graphics <br>\n",
    "Let's randomly choose FRANCE for this example"
   ]
  },
  {
   "cell_type": "code",
   "execution_count": 44,
   "metadata": {},
   "outputs": [],
   "source": [
    "#la fonction plot\n",
    "def tableau_pays(country,recovered, deaths, confirmed):\n",
    "    country_selected = country_selection(country)\n",
    "    country_filtred = country_selected.groupby('Date').sum()\n",
    "    \n",
    "    \n",
    "    if recovered == 'Recovered':\n",
    "        plt.plot_date(country_filtred.index,country_filtred['Recovered'], label='Recovered')\n",
    "        plt.fill_between(country_filtred.index,country_filtred['Recovered'], alpha=0.25)\n",
    "        plt.gcf().autofmt_xdate()\n",
    "    else:\n",
    "        pass\n",
    "    if deaths == 'Deaths':\n",
    "        plt.plot_date(country_filtred.index,country_filtred['Deaths'], label='Deaths')\n",
    "        plt.fill_between(country_filtred.index,country_filtred['Deaths'], alpha=0.25)\n",
    "        plt.gcf().autofmt_xdate()\n",
    "    else:\n",
    "        pass\n",
    "    if confirmed == 'Confirmed':\n",
    "        plt.plot_date(country_filtred.index,country_filtred['Confirmed'], label='Confirmed')\n",
    "        plt.fill_between(country_filtred.index,country_filtred['Confirmed'], alpha=0.25)\n",
    "        plt.gcf().autofmt_xdate()\n",
    "    else:\n",
    "        plt.plot()\n",
    "    plt.legend()\n",
    "    plt.xlabel('Date')\n",
    "    plt.ylabel('Case')"
   ]
  },
  {
   "cell_type": "code",
   "execution_count": 45,
   "metadata": {},
   "outputs": [],
   "source": [
    "def total_stat1(country):\n",
    "    country_selected = country_selection(country)\n",
    "    country_filtred = country_selected.groupby('Date').sum()\n",
    "    \n",
    "    recov_all = max(country_filtred['Recovered'])\n",
    "    confirm_all = max(country_filtred['Confirmed'])\n",
    "    die_all = max(country_filtred['Deaths'])\n",
    "    \n",
    "    print('Recovered = %d' %(recov_all))\n",
    "    print('Confirmed = %d' %(confirm_all))\n",
    "    print('Deaths = %d' %(die_all))"
   ]
  },
  {
   "cell_type": "code",
   "execution_count": 46,
   "metadata": {},
   "outputs": [
    {
     "data": {
      "image/png": "[encoded data removed]",
      "text/plain": [
       "<Figure size 432x288 with 1 Axes>"
      ]
     },
     "metadata": {
      "needs_background": "light"
     },
     "output_type": "display_data"
    }
   ],
   "source": [
    "tableau_pays('France','Recovered','Deaths','Confirmed')"
   ]
  },
  {
   "cell_type": "code",
   "execution_count": 47,
   "metadata": {},
   "outputs": [
    {
     "name": "stdout",
     "output_type": "stream",
     "text": [
      "Recovered = 27469\n",
      "Confirmed = 133670\n",
      "Deaths = 14412\n"
     ]
    }
   ],
   "source": [
    "total_stat1('France')"
   ]
  },
  {
   "cell_type": "markdown",
   "metadata": {},
   "source": [
    "# Tkinter Action\n",
    "Let's travel a bit to the future. We want an interactive Dashboard, it means that some action will be excute according to the use  <br>\n",
    "So, in this part we ll creat these actions "
   ]
  },
  {
   "cell_type": "markdown",
   "metadata": {},
   "source": [
    "We ll firstly creat the main windows with its name and a introduction or title\n"
   ]
  },
  {
   "cell_type": "code",
   "execution_count": 48,
   "metadata": {},
   "outputs": [],
   "source": [
    "root = tk.Tk()\n",
    "root.title(\"COVID-19 EVOLUTION \" )\n",
    "root.minsize(640,480)\n",
    "intro = tk.Label(root, text=\"COVID-19 EVOLUTION / COUNTRY\" , font='times 15 bold underline')"
   ]
  },
  {
   "cell_type": "markdown",
   "metadata": {},
   "source": [
    "Initialisation <br>\n",
    "For making it fun by having a starting plot we will set some constants"
   ]
  },
  {
   "cell_type": "code",
   "execution_count": 49,
   "metadata": {},
   "outputs": [],
   "source": [
    "confirm_choice='Confirmed'\n",
    "die_choice='Deaths'\n",
    "recov_choice='Recovered'\n",
    "select='Afghanistan'"
   ]
  },
  {
   "cell_type": "code",
   "execution_count": 50,
   "metadata": {},
   "outputs": [],
   "source": [
    "#here, we also initialize stat canevas\n",
    "country_selected = country_selection(select)\n",
    "country_filtred = country_selected.groupby('Date').sum()\n",
    "recov_all = sum(country_filtred['Recovered'])\n",
    "confirm_all = sum(country_filtred['Confirmed'])\n",
    "die_all = sum(country_filtred['Deaths'])"
   ]
  },
  {
   "cell_type": "markdown",
   "metadata": {},
   "source": [
    "Action\n",
    "this part deals will action ( or function ) that will be performed when we interate with the dashnboard"
   ]
  },
  {
   "cell_type": "code",
   "execution_count": 51,
   "metadata": {},
   "outputs": [],
   "source": [
    "#Confirmed button, it starts with a variable that ll take a value when the case confirmed is checked or not\n",
    "#then it continues with others operations like plotting, getting others variables\n",
    "\n",
    "confirm_Var = StringVar() # a variable which take the value\n",
    "\n",
    "def confirm_action():\n",
    "    \n",
    "    confirm_choice = confirm_Var.get()\n",
    "    die_choice = die_Var.get()\n",
    "    recov_choice = recov_Var.get()\n",
    "    select = pays_combo.get()\n",
    "    \n",
    "    #print(confirm_choice)  # this line is for ppl who want to see the process\n",
    "    image2 = tableau_pays2(select,recov_choice, die_choice, confirm_choice)\n",
    "\n"
   ]
  },
  {
   "cell_type": "code",
   "execution_count": 52,
   "metadata": {},
   "outputs": [],
   "source": [
    "#same with deaths\n",
    "die_Var = StringVar()\n",
    "def die_action():\n",
    "    \n",
    "    confirm_choice = confirm_Var.get()\n",
    "    die_choice = die_Var.get()\n",
    "    recov_choice = recov_Var.get()\n",
    "    select = pays_combo.get()\n",
    "    \n",
    "    print(die_choice)\n",
    "    image2 = tableau_pays2(select,recov_choice, die_choice, confirm_choice)"
   ]
  },
  {
   "cell_type": "code",
   "execution_count": 53,
   "metadata": {},
   "outputs": [],
   "source": [
    "#let's not forget recovered\n",
    "recov_Var = StringVar()\n",
    "def recov_action():\n",
    "    \n",
    "    confirm_choice = confirm_Var.get()\n",
    "    die_choice = die_Var.get()\n",
    "    recov_choice = recov_Var.get()\n",
    "    select = pays_combo.get()\n",
    "    \n",
    "    #print(recov_choice)\n",
    "    image2 = tableau_pays2(select,recov_choice, die_choice, confirm_choice)"
   ]
  },
  {
   "cell_type": "code",
   "execution_count": 54,
   "metadata": {},
   "outputs": [],
   "source": [
    "# A action will also be perfom when we change country. Below the action\n",
    "\n",
    "def action(event):\n",
    "    confirm_choice = confirm_Var.get()\n",
    "    die_choice = die_Var.get()\n",
    "    recov_choice = recov_Var.get()\n",
    "    select = pays_combo.get()\n",
    "    #print(select)\n",
    "    image2 = tableau_pays2(select,recov_choice, die_choice, confirm_choice)\n",
    "    total_stat(select)"
   ]
  },
  {
   "cell_type": "markdown",
   "metadata": {},
   "source": [
    "# Tkinter Vusalisation\n",
    "this is the last part of the apps.\n",
    "Here, we will creat canevas, button, and so list, checkbox.."
   ]
  },
  {
   "cell_type": "markdown",
   "metadata": {},
   "source": [
    "We start by creating, a combo list of countres. "
   ]
  },
  {
   "cell_type": "code",
   "execution_count": 55,
   "metadata": {},
   "outputs": [
    {
     "data": {
      "text/plain": [
       "'2642345729928action'"
      ]
     },
     "execution_count": 55,
     "metadata": {},
     "output_type": "execute_result"
    }
   ],
   "source": [
    "list_pays = list(list_pays)\n",
    "\n",
    "pays_combo = ttk.Combobox(root, text='COUNTRY SELECTION', values = list_pays, width=32)\n",
    "pays_combo.current(0)\n",
    "pays_combo.bind(\"<<ComboboxSelected>>\", action)"
   ]
  },
  {
   "cell_type": "markdown",
   "metadata": {},
   "source": [
    "Below, we creat a main frame that contain chechkedbox Confirmed, Recovered and Deaths"
   ]
  },
  {
   "cell_type": "code",
   "execution_count": 56,
   "metadata": {},
   "outputs": [],
   "source": [
    "cas_frame = tk.LabelFrame(root, width=300, height=200, text='SITUATION')\n",
    "\n",
    "check_widget1 = tk.Checkbutton(cas_frame, text=\"Confirmed\",\n",
    "                               variable=confirm_Var, onvalue='Confirmed', offvalue='non', command=confirm_action)\n",
    "check_widget2 = tk.Checkbutton(cas_frame, text=\"Recovered\", \n",
    "                               variable=recov_Var, onvalue='Recovered', offvalue='non', command=recov_action)\n",
    "check_widget3 = tk.Checkbutton(cas_frame, text=\"Deaths\", \n",
    "                               variable=die_Var, onvalue='Deaths', offvalue='non', command=die_action)\n"
   ]
  },
  {
   "cell_type": "markdown",
   "metadata": {},
   "source": [
    "So far, we just have button, let's below creat the initial visualisation according to initial parameter <br>\n",
    "What we need is just the statistics and the graphs"
   ]
  },
  {
   "cell_type": "code",
   "execution_count": 57,
   "metadata": {},
   "outputs": [
    {
     "name": "stdout",
     "output_type": "stream",
     "text": [
      "Recovered = 32\n",
      "Confirmed = 607\n",
      "Deaths = 18\n"
     ]
    },
    {
     "name": "stderr",
     "output_type": "stream",
     "text": [
      "C:\\Users\\chand\\Anaconda3\\lib\\site-packages\\ipykernel_launcher.py:17: MatplotlibDeprecationWarning: Adding an axes using the same arguments as a previous axes currently reuses the earlier instance.  In a future version, a new instance will always be created and returned.  Meanwhile, this warning can be suppressed, and the future behavior ensured, by passing a unique label to each axes instance.\n"
     ]
    }
   ],
   "source": [
    "total_stat(select)\n",
    "image2 = tableau_pays2(select,recov_choice, die_choice, confirm_choice)"
   ]
  },
  {
   "cell_type": "markdown",
   "metadata": {},
   "source": [
    "it all over, but we have nothing so far. What is fun with Tkinter is that we can creat objects and not vizualise it. <br>\n",
    "what is a bit weird !<br>\n",
    "However, it is normal because we need to specify object locations<br>\n",
    "it is what we are going to do below <br>"
   ]
  },
  {
   "cell_type": "code",
   "execution_count": 40,
   "metadata": {},
   "outputs": [
    {
     "name": "stdout",
     "output_type": "stream",
     "text": [
      "Deaths\n"
     ]
    },
    {
     "name": "stderr",
     "output_type": "stream",
     "text": [
      "Exception in Tkinter callback\n",
      "Traceback (most recent call last):\n",
      "  File \"C:\\Users\\chand\\Anaconda3\\lib\\site-packages\\pandas\\core\\indexes\\base.py\", line 2897, in get_loc\n",
      "    return self._engine.get_loc(key)\n",
      "  File \"pandas\\_libs\\index.pyx\", line 107, in pandas._libs.index.IndexEngine.get_loc\n",
      "  File \"pandas\\_libs\\index.pyx\", line 131, in pandas._libs.index.IndexEngine.get_loc\n",
      "  File \"pandas\\_libs\\hashtable_class_helper.pxi\", line 1607, in pandas._libs.hashtable.PyObjectHashTable.get_item\n",
      "  File \"pandas\\_libs\\hashtable_class_helper.pxi\", line 1614, in pandas._libs.hashtable.PyObjectHashTable.get_item\n",
      "KeyError: ''\n",
      "\n",
      "During handling of the above exception, another exception occurred:\n",
      "\n",
      "Traceback (most recent call last):\n",
      "  File \"C:\\Users\\chand\\Anaconda3\\lib\\tkinter\\__init__.py\", line 1705, in __call__\n",
      "    return self.func(*args)\n",
      "  File \"<ipython-input-33-7889d17e270d>\", line 11, in die_action\n",
      "    image2 = tableau_pays2(select,recov_choice, die_choice, confirm_choice)\n",
      "  File \"<ipython-input-10-a7bbd356fbef>\", line 17, in tableau_pays2\n",
      "    image.add_subplot(111).plot_date(country_filtred.index,country_filtred[i], linestyle='solid',label=i)\n",
      "  File \"C:\\Users\\chand\\Anaconda3\\lib\\site-packages\\pandas\\core\\frame.py\", line 2980, in __getitem__\n",
      "    indexer = self.columns.get_loc(key)\n",
      "  File \"C:\\Users\\chand\\Anaconda3\\lib\\site-packages\\pandas\\core\\indexes\\base.py\", line 2899, in get_loc\n",
      "    return self._engine.get_loc(self._maybe_cast_indexer(key))\n",
      "  File \"pandas\\_libs\\index.pyx\", line 107, in pandas._libs.index.IndexEngine.get_loc\n",
      "  File \"pandas\\_libs\\index.pyx\", line 131, in pandas._libs.index.IndexEngine.get_loc\n",
      "  File \"pandas\\_libs\\hashtable_class_helper.pxi\", line 1607, in pandas._libs.hashtable.PyObjectHashTable.get_item\n",
      "  File \"pandas\\_libs\\hashtable_class_helper.pxi\", line 1614, in pandas._libs.hashtable.PyObjectHashTable.get_item\n",
      "KeyError: ''\n"
     ]
    },
    {
     "name": "stdout",
     "output_type": "stream",
     "text": [
      "non\n"
     ]
    },
    {
     "name": "stderr",
     "output_type": "stream",
     "text": [
      "Exception in Tkinter callback\n",
      "Traceback (most recent call last):\n",
      "  File \"C:\\Users\\chand\\Anaconda3\\lib\\site-packages\\pandas\\core\\indexes\\base.py\", line 2897, in get_loc\n",
      "    return self._engine.get_loc(key)\n",
      "  File \"pandas\\_libs\\index.pyx\", line 107, in pandas._libs.index.IndexEngine.get_loc\n",
      "  File \"pandas\\_libs\\index.pyx\", line 131, in pandas._libs.index.IndexEngine.get_loc\n",
      "  File \"pandas\\_libs\\hashtable_class_helper.pxi\", line 1607, in pandas._libs.hashtable.PyObjectHashTable.get_item\n",
      "  File \"pandas\\_libs\\hashtable_class_helper.pxi\", line 1614, in pandas._libs.hashtable.PyObjectHashTable.get_item\n",
      "KeyError: ''\n",
      "\n",
      "During handling of the above exception, another exception occurred:\n",
      "\n",
      "Traceback (most recent call last):\n",
      "  File \"C:\\Users\\chand\\Anaconda3\\lib\\tkinter\\__init__.py\", line 1705, in __call__\n",
      "    return self.func(*args)\n",
      "  File \"<ipython-input-33-7889d17e270d>\", line 11, in die_action\n",
      "    image2 = tableau_pays2(select,recov_choice, die_choice, confirm_choice)\n",
      "  File \"<ipython-input-10-a7bbd356fbef>\", line 17, in tableau_pays2\n",
      "    image.add_subplot(111).plot_date(country_filtred.index,country_filtred[i], linestyle='solid',label=i)\n",
      "  File \"C:\\Users\\chand\\Anaconda3\\lib\\site-packages\\pandas\\core\\frame.py\", line 2980, in __getitem__\n",
      "    indexer = self.columns.get_loc(key)\n",
      "  File \"C:\\Users\\chand\\Anaconda3\\lib\\site-packages\\pandas\\core\\indexes\\base.py\", line 2899, in get_loc\n",
      "    return self._engine.get_loc(self._maybe_cast_indexer(key))\n",
      "  File \"pandas\\_libs\\index.pyx\", line 107, in pandas._libs.index.IndexEngine.get_loc\n",
      "  File \"pandas\\_libs\\index.pyx\", line 131, in pandas._libs.index.IndexEngine.get_loc\n",
      "  File \"pandas\\_libs\\hashtable_class_helper.pxi\", line 1607, in pandas._libs.hashtable.PyObjectHashTable.get_item\n",
      "  File \"pandas\\_libs\\hashtable_class_helper.pxi\", line 1614, in pandas._libs.hashtable.PyObjectHashTable.get_item\n",
      "KeyError: ''\n",
      "C:\\Users\\chand\\Anaconda3\\lib\\site-packages\\ipykernel_launcher.py:17: MatplotlibDeprecationWarning: Adding an axes using the same arguments as a previous axes currently reuses the earlier instance.  In a future version, a new instance will always be created and returned.  Meanwhile, this warning can be suppressed, and the future behavior ensured, by passing a unique label to each axes instance.\n",
      "Exception in Tkinter callback\n",
      "Traceback (most recent call last):\n",
      "  File \"C:\\Users\\chand\\Anaconda3\\lib\\site-packages\\pandas\\core\\indexes\\base.py\", line 2897, in get_loc\n",
      "    return self._engine.get_loc(key)\n",
      "  File \"pandas\\_libs\\index.pyx\", line 107, in pandas._libs.index.IndexEngine.get_loc\n",
      "  File \"pandas\\_libs\\index.pyx\", line 131, in pandas._libs.index.IndexEngine.get_loc\n",
      "  File \"pandas\\_libs\\hashtable_class_helper.pxi\", line 1607, in pandas._libs.hashtable.PyObjectHashTable.get_item\n",
      "  File \"pandas\\_libs\\hashtable_class_helper.pxi\", line 1614, in pandas._libs.hashtable.PyObjectHashTable.get_item\n",
      "KeyError: ''\n",
      "\n",
      "During handling of the above exception, another exception occurred:\n",
      "\n",
      "Traceback (most recent call last):\n",
      "  File \"C:\\Users\\chand\\Anaconda3\\lib\\tkinter\\__init__.py\", line 1705, in __call__\n",
      "    return self.func(*args)\n",
      "  File \"<ipython-input-34-fbd04c470784>\", line 11, in recov_action\n",
      "    image2 = tableau_pays2(select,recov_choice, die_choice, confirm_choice)\n",
      "  File \"<ipython-input-10-a7bbd356fbef>\", line 17, in tableau_pays2\n",
      "    image.add_subplot(111).plot_date(country_filtred.index,country_filtred[i], linestyle='solid',label=i)\n",
      "  File \"C:\\Users\\chand\\Anaconda3\\lib\\site-packages\\pandas\\core\\frame.py\", line 2980, in __getitem__\n",
      "    indexer = self.columns.get_loc(key)\n",
      "  File \"C:\\Users\\chand\\Anaconda3\\lib\\site-packages\\pandas\\core\\indexes\\base.py\", line 2899, in get_loc\n",
      "    return self._engine.get_loc(self._maybe_cast_indexer(key))\n",
      "  File \"pandas\\_libs\\index.pyx\", line 107, in pandas._libs.index.IndexEngine.get_loc\n",
      "  File \"pandas\\_libs\\index.pyx\", line 131, in pandas._libs.index.IndexEngine.get_loc\n",
      "  File \"pandas\\_libs\\hashtable_class_helper.pxi\", line 1607, in pandas._libs.hashtable.PyObjectHashTable.get_item\n",
      "  File \"pandas\\_libs\\hashtable_class_helper.pxi\", line 1614, in pandas._libs.hashtable.PyObjectHashTable.get_item\n",
      "KeyError: ''\n",
      "Exception in Tkinter callback\n",
      "Traceback (most recent call last):\n",
      "  File \"C:\\Users\\chand\\Anaconda3\\lib\\site-packages\\pandas\\core\\indexes\\base.py\", line 2897, in get_loc\n",
      "    return self._engine.get_loc(key)\n",
      "  File \"pandas\\_libs\\index.pyx\", line 107, in pandas._libs.index.IndexEngine.get_loc\n",
      "  File \"pandas\\_libs\\index.pyx\", line 131, in pandas._libs.index.IndexEngine.get_loc\n",
      "  File \"pandas\\_libs\\hashtable_class_helper.pxi\", line 1607, in pandas._libs.hashtable.PyObjectHashTable.get_item\n",
      "  File \"pandas\\_libs\\hashtable_class_helper.pxi\", line 1614, in pandas._libs.hashtable.PyObjectHashTable.get_item\n",
      "KeyError: ''\n",
      "\n",
      "During handling of the above exception, another exception occurred:\n",
      "\n",
      "Traceback (most recent call last):\n",
      "  File \"C:\\Users\\chand\\Anaconda3\\lib\\tkinter\\__init__.py\", line 1705, in __call__\n",
      "    return self.func(*args)\n",
      "  File \"<ipython-input-34-fbd04c470784>\", line 11, in recov_action\n",
      "    image2 = tableau_pays2(select,recov_choice, die_choice, confirm_choice)\n",
      "  File \"<ipython-input-10-a7bbd356fbef>\", line 17, in tableau_pays2\n",
      "    image.add_subplot(111).plot_date(country_filtred.index,country_filtred[i], linestyle='solid',label=i)\n",
      "  File \"C:\\Users\\chand\\Anaconda3\\lib\\site-packages\\pandas\\core\\frame.py\", line 2980, in __getitem__\n",
      "    indexer = self.columns.get_loc(key)\n",
      "  File \"C:\\Users\\chand\\Anaconda3\\lib\\site-packages\\pandas\\core\\indexes\\base.py\", line 2899, in get_loc\n",
      "    return self._engine.get_loc(self._maybe_cast_indexer(key))\n",
      "  File \"pandas\\_libs\\index.pyx\", line 107, in pandas._libs.index.IndexEngine.get_loc\n",
      "  File \"pandas\\_libs\\index.pyx\", line 131, in pandas._libs.index.IndexEngine.get_loc\n",
      "  File \"pandas\\_libs\\hashtable_class_helper.pxi\", line 1607, in pandas._libs.hashtable.PyObjectHashTable.get_item\n",
      "  File \"pandas\\_libs\\hashtable_class_helper.pxi\", line 1614, in pandas._libs.hashtable.PyObjectHashTable.get_item\n",
      "KeyError: ''\n",
      "No handles with labels found to put in legend.\n"
     ]
    },
    {
     "name": "stdout",
     "output_type": "stream",
     "text": [
      "Deaths\n",
      "Recovered = 128\n",
      "Confirmed = 638\n",
      "Deaths = 29\n",
      "Recovered = 197\n",
      "Confirmed = 1013\n",
      "Deaths = 13\n",
      "Recovered = 32\n",
      "Confirmed = 607\n",
      "Deaths = 18\n"
     ]
    }
   ],
   "source": [
    "intro.grid(row=0, column=1)\n",
    "pays_combo.grid(row=1, column=0, pady=2)\n",
    "cas_frame.grid(row=2, column=0, pady=2)\n",
    "\n",
    "check_widget1.grid(row=0, column=1)\n",
    "check_widget2.grid(row=0, column=2)\n",
    "check_widget3.grid(row=0, column=3)\n",
    "\n",
    "root.mainloop()"
   ]
  },
  {
   "cell_type": "code",
   "execution_count": null,
   "metadata": {},
   "outputs": [],
   "source": []
  }
 ],
 "metadata": {
  "kernelspec": {
   "display_name": "Python 3",
   "language": "python",
   "name": "python3"
  },
  "language_info": {
   "codemirror_mode": {
    "name": "ipython",
    "version": 3
   },
   "file_extension": ".py",
   "mimetype": "text/x-python",
   "name": "python",
   "nbconvert_exporter": "python",
   "pygments_lexer": "ipython3",
   "version": "3.7.4"
  }
 },
 "nbformat": 4,
 "nbformat_minor": 2
}
